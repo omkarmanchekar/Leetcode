{
 "cells": [
  {
   "cell_type": "markdown",
   "metadata": {},
   "source": [
    "Brute force approach\n"
   ]
  },
  {
   "cell_type": "code",
   "execution_count": 2,
   "metadata": {},
   "outputs": [
    {
     "data": {
      "text/plain": [
       "5"
      ]
     },
     "execution_count": 2,
     "metadata": {},
     "output_type": "execute_result"
    }
   ],
   "source": [
    "prices = [7, 1, 5, 3, 6, 4]\n",
    "\n",
    "\n",
    "def solution(prices):\n",
    "    profit = 0\n",
    "    for i in range(len(prices)):\n",
    "        for j in range(i+1, len(prices)):\n",
    "            currentProfit = prices[j] - prices[i]\n",
    "            if(currentProfit >= profit):\n",
    "                profit = currentProfit\n",
    "    return profit\n",
    "\n",
    "solution(prices)\n",
    "\n",
    "# Time Complexity is O(N^2)\n"
   ]
  },
  {
   "cell_type": "markdown",
   "metadata": {},
   "source": [
    "DP/One pass approach\n"
   ]
  },
  {
   "cell_type": "code",
   "execution_count": 7,
   "metadata": {},
   "outputs": [
    {
     "data": {
      "text/plain": [
       "0"
      ]
     },
     "execution_count": 7,
     "metadata": {},
     "output_type": "execute_result"
    }
   ],
   "source": [
    "prices = [7, 6, 5, 3, 2, 1]\n",
    "\n",
    "\n",
    "def solution(prices):\n",
    "    profit = 0\n",
    "    lowestPrice = prices[0]\n",
    "    for i in range(1, len(prices)):\n",
    "        lowestPrice = min(lowestPrice, prices[i])\n",
    "        currentProfit = prices[i] - lowestPrice\n",
    "        if(currentProfit >= profit):\n",
    "            profit = currentProfit\n",
    "    return profit\n",
    "\n",
    "solution(prices)\n",
    "\n",
    "# Time Complexity is O(N)\n"
   ]
  },
  {
   "cell_type": "code",
   "execution_count": null,
   "metadata": {},
   "outputs": [],
   "source": []
  }
 ],
 "metadata": {
  "interpreter": {
   "hash": "aee8b7b246df8f9039afb4144a1f6fd8d2ca17a180786b69acc140d282b71a49"
  },
  "kernelspec": {
   "display_name": "Python 3.9.7 64-bit",
   "language": "python",
   "name": "python3"
  },
  "language_info": {
   "codemirror_mode": {
    "name": "ipython",
    "version": 3
   },
   "file_extension": ".py",
   "mimetype": "text/x-python",
   "name": "python",
   "nbconvert_exporter": "python",
   "pygments_lexer": "ipython3",
   "version": "3.9.13"
  },
  "orig_nbformat": 4
 },
 "nbformat": 4,
 "nbformat_minor": 2
}

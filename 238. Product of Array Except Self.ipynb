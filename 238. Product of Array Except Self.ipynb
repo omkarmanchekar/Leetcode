{
 "cells": [
  {
   "cell_type": "markdown",
   "metadata": {},
   "source": [
    "Left, Right approach "
   ]
  },
  {
   "cell_type": "code",
   "execution_count": 13,
   "metadata": {},
   "outputs": [
    {
     "data": {
      "text/plain": [
       "[80, 64, 320, 40, 160]"
      ]
     },
     "execution_count": 13,
     "metadata": {},
     "output_type": "execute_result"
    }
   ],
   "source": [
    "nums = [4,5,1,8,2]\n",
    "\n",
    "def solution(nums):\n",
    "    right = [1] *len(nums)\n",
    "    left = [1] *len(nums)\n",
    "    result = []\n",
    "\n",
    "    for i in range(len(nums)-1):\n",
    "        right[i+1] = right[i] * nums[i]\n",
    "\n",
    "    for j in range(len(nums)-1,0,-1):\n",
    "        left[j-1] = left[j] *nums[j]\n",
    "\n",
    "    for i in range(len(nums)):\n",
    "        result.append(right[i]*left[i])\n",
    "    \n",
    "    return result\n",
    "\n",
    "solution(nums)\n",
    "\n",
    "# Time Compelxity is O(N) without use of division\n"
   ]
  },
  {
   "cell_type": "code",
   "execution_count": 16,
   "metadata": {},
   "outputs": [],
   "source": [
    "# There is approach for constant SPACE COMPLEXITY "
   ]
  }
 ],
 "metadata": {
  "interpreter": {
   "hash": "aee8b7b246df8f9039afb4144a1f6fd8d2ca17a180786b69acc140d282b71a49"
  },
  "kernelspec": {
   "display_name": "Python 3.9.7 64-bit",
   "language": "python",
   "name": "python3"
  },
  "language_info": {
   "codemirror_mode": {
    "name": "ipython",
    "version": 3
   },
   "file_extension": ".py",
   "mimetype": "text/x-python",
   "name": "python",
   "nbconvert_exporter": "python",
   "pygments_lexer": "ipython3",
   "version": "3.9.13"
  },
  "orig_nbformat": 4
 },
 "nbformat": 4,
 "nbformat_minor": 2
}

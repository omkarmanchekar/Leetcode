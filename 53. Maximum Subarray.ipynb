{
 "cells": [
  {
   "cell_type": "markdown",
   "metadata": {},
   "source": [
    "DP approach "
   ]
  },
  {
   "cell_type": "code",
   "execution_count": 4,
   "metadata": {},
   "outputs": [
    {
     "data": {
      "text/plain": [
       "6"
      ]
     },
     "execution_count": 4,
     "metadata": {},
     "output_type": "execute_result"
    }
   ],
   "source": [
    "\"\"\"\n",
    "\n",
    "DAG problem \n",
    "every node is a subproblem ==> finding the max subarray till i th node \n",
    "we draw edge i -> j, when j = i+1\n",
    "no specific start/end\n",
    "\n",
    "\"\"\"\n",
    "\n",
    "\n",
    "nums = [-2,1,-3,4,-1,2,1,-5,4]\n",
    "\n",
    "def solution(nums):\n",
    "    result  = [float('-inf')] * len(nums)\n",
    "    for i in range(len(nums)):\n",
    "        result[i] = max(nums[i],result[i-1]+nums[i])\n",
    "\n",
    "    return max(result)\n",
    "\n",
    "\n",
    "solution(nums)\n",
    "\n",
    "# Time Complexity is O(N)"
   ]
  },
  {
   "cell_type": "markdown",
   "metadata": {},
   "source": [
    "NON DP approach with 2 variables max_sum and current_sum, current_sum will keep the track of sum generated on fly "
   ]
  },
  {
   "cell_type": "code",
   "execution_count": 5,
   "metadata": {},
   "outputs": [
    {
     "data": {
      "text/plain": [
       "4"
      ]
     },
     "execution_count": 5,
     "metadata": {},
     "output_type": "execute_result"
    }
   ],
   "source": [
    "\n",
    "nums = [-2,1,-3,4,-1,2,1,-5,4]\n",
    "\n",
    "def solution(nums):\n",
    "    curent_sum = max_sum = nums[0]\n",
    "\n",
    "    for i in nums[1:]:\n",
    "        if(curent_sum < 0):\n",
    "            current_sum = i\n",
    "        else:\n",
    "            curent_sum += i\n",
    "        max_sum = max(max_sum,current_sum)\n",
    "    return max_sum\n",
    "\n",
    "solution(nums)\n",
    "\n",
    "\n",
    "# Time Complexity is O(N)"
   ]
  },
  {
   "cell_type": "code",
   "execution_count": null,
   "metadata": {},
   "outputs": [],
   "source": []
  }
 ],
 "metadata": {
  "interpreter": {
   "hash": "aee8b7b246df8f9039afb4144a1f6fd8d2ca17a180786b69acc140d282b71a49"
  },
  "kernelspec": {
   "display_name": "Python 3.9.7 64-bit",
   "language": "python",
   "name": "python3"
  },
  "language_info": {
   "codemirror_mode": {
    "name": "ipython",
    "version": 3
   },
   "file_extension": ".py",
   "mimetype": "text/x-python",
   "name": "python",
   "nbconvert_exporter": "python",
   "pygments_lexer": "ipython3",
   "version": "3.9.13"
  },
  "orig_nbformat": 4
 },
 "nbformat": 4,
 "nbformat_minor": 2
}
